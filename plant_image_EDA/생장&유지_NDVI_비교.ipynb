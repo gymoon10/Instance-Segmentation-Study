{
 "cells": [
  {
   "cell_type": "code",
   "execution_count": null,
   "id": "01dd9c8b",
   "metadata": {},
   "outputs": [],
   "source": []
  },
  {
   "cell_type": "code",
   "execution_count": 5,
   "id": "49ccf85b",
   "metadata": {},
   "outputs": [],
   "source": [
    "import cv2\n",
    "import numpy as np\n",
    "import os\n",
    "import matplotlib.pyplot as plt"
   ]
  },
  {
   "cell_type": "code",
   "execution_count": 6,
   "id": "e638f6ba",
   "metadata": {},
   "outputs": [],
   "source": [
    "# 처리할 이미지 범위 지정\n",
    "start = 7 \n",
    "end = 10\n",
    "\n",
    "# 개별 이미지들의 처리 point 좌표 (x, y)\n",
    "total_pts = {}\n",
    "for i in range(start, end+1):\n",
    "    total_pts[i] = {'p1' : [],  # 생장 영역 좌표 \n",
    "                    'p2' : []}  # 유지 영역 좌표 "
   ]
  },
  {
   "cell_type": "markdown",
   "id": "8dc2ad2f",
   "metadata": {},
   "source": [
    "### Image Data"
   ]
  },
  {
   "cell_type": "code",
   "execution_count": 7,
   "id": "3cd0c10f",
   "metadata": {},
   "outputs": [],
   "source": [
    "root_path = 'F:/RGB-NIR/'\n",
    "mode = 3\n",
    "\n",
    "data_path = root_path + str(mode)\n",
    "\n",
    "ndvi_path = data_path + '/' + 'NDVI_re'  # NDVI 이미지 폴더 경로\n",
    "ndvi785_path = data_path + '/' + 'NDVI_785'  # NDVI 785 이미지 폴더 경로\n",
    "\n",
    "ndvi_img_list = os.listdir(ndvi_path)\n",
    "ndvi_img_dict = {idx:ndvi_path+'/'+ img_path for idx, img_path in enumerate(ndvi_img_list)}   \n",
    "\n",
    "ndvi785_img_list = os.listdir(ndvi785_path)\n",
    "ndvi785_img_dict = {idx:ndvi785_path+'/'+img_path for idx, img_path in enumerate(ndvi785_img_list)}   "
   ]
  },
  {
   "cell_type": "code",
   "execution_count": 8,
   "id": "ca67d954",
   "metadata": {},
   "outputs": [
    {
     "data": {
      "text/plain": [
       "{0: 'F:/RGB-NIR/3/NDVI_re/211130_3.bmp',\n",
       " 1: 'F:/RGB-NIR/3/NDVI_re/211201_3.bmp',\n",
       " 2: 'F:/RGB-NIR/3/NDVI_re/211202_3.bmp',\n",
       " 3: 'F:/RGB-NIR/3/NDVI_re/211203_3.bmp',\n",
       " 4: 'F:/RGB-NIR/3/NDVI_re/211204_3.bmp',\n",
       " 5: 'F:/RGB-NIR/3/NDVI_re/211205_3.bmp',\n",
       " 6: 'F:/RGB-NIR/3/NDVI_re/211206_3.bmp',\n",
       " 7: 'F:/RGB-NIR/3/NDVI_re/211207_3.bmp',\n",
       " 8: 'F:/RGB-NIR/3/NDVI_re/211208_3.bmp',\n",
       " 9: 'F:/RGB-NIR/3/NDVI_re/211209_3.bmp',\n",
       " 10: 'F:/RGB-NIR/3/NDVI_re/211210_3.bmp',\n",
       " 11: 'F:/RGB-NIR/3/NDVI_re/211211_3.bmp',\n",
       " 12: 'F:/RGB-NIR/3/NDVI_re/211212_3.bmp',\n",
       " 13: 'F:/RGB-NIR/3/NDVI_re/211213_3.bmp',\n",
       " 14: 'F:/RGB-NIR/3/NDVI_re/211214_3.bmp',\n",
       " 15: 'F:/RGB-NIR/3/NDVI_re/211215_3.bmp',\n",
       " 16: 'F:/RGB-NIR/3/NDVI_re/211216_3.bmp',\n",
       " 17: 'F:/RGB-NIR/3/NDVI_re/211217_3.bmp',\n",
       " 18: 'F:/RGB-NIR/3/NDVI_re/211218_3.bmp',\n",
       " 19: 'F:/RGB-NIR/3/NDVI_re/211219_3.bmp',\n",
       " 20: 'F:/RGB-NIR/3/NDVI_re/211220_3.bmp',\n",
       " 21: 'F:/RGB-NIR/3/NDVI_re/211221_3.bmp',\n",
       " 22: 'F:/RGB-NIR/3/NDVI_re/211222_3.bmp',\n",
       " 23: 'F:/RGB-NIR/3/NDVI_re/211223_3.bmp',\n",
       " 24: 'F:/RGB-NIR/3/NDVI_re/211224_3.bmp',\n",
       " 25: 'F:/RGB-NIR/3/NDVI_re/211225_3.bmp',\n",
       " 26: 'F:/RGB-NIR/3/NDVI_re/211226_3.bmp',\n",
       " 27: 'F:/RGB-NIR/3/NDVI_re/211227_3.bmp',\n",
       " 28: 'F:/RGB-NIR/3/NDVI_re/211228_3.bmp',\n",
       " 29: 'F:/RGB-NIR/3/NDVI_re/211229_3.bmp',\n",
       " 30: 'F:/RGB-NIR/3/NDVI_re/211230_3.bmp',\n",
       " 31: 'F:/RGB-NIR/3/NDVI_re/211231_3.bmp',\n",
       " 32: 'F:/RGB-NIR/3/NDVI_re/220101_3.bmp',\n",
       " 33: 'F:/RGB-NIR/3/NDVI_re/220102_3.bmp',\n",
       " 34: 'F:/RGB-NIR/3/NDVI_re/220103_3.bmp'}"
      ]
     },
     "execution_count": 8,
     "metadata": {},
     "output_type": "execute_result"
    }
   ],
   "source": [
    "ndvi_img_dict "
   ]
  },
  {
   "cell_type": "markdown",
   "id": "0054a383",
   "metadata": {},
   "source": [
    "### 마우스 클릭으로 좌표 추출"
   ]
  },
  {
   "cell_type": "code",
   "execution_count": 9,
   "id": "a6386702",
   "metadata": {},
   "outputs": [],
   "source": [
    "# 마우스 이벤트 처리 함수 (참고: https://github.com/gymoon10/OpenCV/blob/main/OpenCV%20%EC%82%AC%EC%9A%A9%EB%B2%95.ipynb)\n",
    "def on_mouse(event, x, y, flags, param):\n",
    "    global oldx, oldy\n",
    "    \n",
    "    # 좌클릭에 반응\n",
    "    if event == cv2.EVENT_LBUTTONDOWN:\n",
    "        oldx, oldy = x, y\n",
    "        print('EVENT_LBUTTONDOWN: %d, %d' % (x, y))\n",
    "        \n",
    "        result.append((x, y))\n",
    "        \n",
    "    return result"
   ]
  },
  {
   "cell_type": "code",
   "execution_count": 30,
   "id": "70c29525",
   "metadata": {},
   "outputs": [
    {
     "name": "stdout",
     "output_type": "stream",
     "text": [
      "EVENT_LBUTTONDOWN: 687, 413\n",
      "EVENT_LBUTTONDOWN: 695, 385\n",
      "EVENT_LBUTTONDOWN: 709, 368\n",
      "EVENT_LBUTTONDOWN: 732, 351\n",
      "EVENT_LBUTTONDOWN: 743, 342\n",
      "EVENT_LBUTTONDOWN: 749, 273\n",
      "EVENT_LBUTTONDOWN: 772, 279\n",
      "EVENT_LBUTTONDOWN: 775, 308\n",
      "EVENT_LBUTTONDOWN: 735, 317\n",
      "EVENT_LBUTTONDOWN: 742, 337\n",
      "EVENT_LBUTTONDOWN: 771, 334\n",
      "EVENT_LBUTTONDOWN: 731, 357\n",
      "EVENT_LBUTTONDOWN: 705, 358\n",
      "EVENT_LBUTTONDOWN: 736, 385\n",
      "EVENT_LBUTTONDOWN: 715, 408\n",
      "EVENT_LBUTTONDOWN: 779, 237\n",
      "EVENT_LBUTTONDOWN: 750, 263\n",
      "EVENT_LBUTTONDOWN: 727, 294\n",
      "EVENT_LBUTTONDOWN: 713, 339\n",
      "EVENT_LBUTTONDOWN: 696, 377\n",
      "EVENT_LBUTTONDOWN: 692, 395\n",
      "EVENT_LBUTTONDOWN: 736, 204\n",
      "EVENT_LBUTTONDOWN: 775, 214\n",
      "EVENT_LBUTTONDOWN: 747, 242\n",
      "EVENT_LBUTTONDOWN: 771, 250\n",
      "EVENT_LBUTTONDOWN: 739, 307\n",
      "EVENT_LBUTTONDOWN: 696, 308\n",
      "EVENT_LBUTTONDOWN: 737, 332\n",
      "EVENT_LBUTTONDOWN: 710, 367\n"
     ]
    }
   ],
   "source": [
    "# 개별 이미지 별로 생장 영역(p1) 좌표 추출\n",
    "# 각 이미지 마다 생장 영역의 좌표들을 좌클릭, esc를 누르면 다음 이미지로 넘어감\n",
    "for i in range(start, end+1):\n",
    "    img = cv2.imread(ndvi_img_dict[i])  # NDVI 이미지\n",
    "    result = []\n",
    "    \n",
    "    cv2.namedWindow('image')\n",
    "    cv2.setMouseCallback('image', on_mouse, img) # 발생하는 마우스 이벤트를 반영\n",
    "    \n",
    "    # 텍스트\n",
    "    text = ndvi_img_dict[i].split('/')[-1]\n",
    "    cv2.putText(img, text, (100, 50), cv2.FONT_HERSHEY_SIMPLEX, 0.8, \n",
    "                (255, 255, 255), 1, cv2.LINE_AA)\n",
    "    \n",
    "    text = 'Click the Points of Growth Areas (Press ESC to move on to the next image)'\n",
    "    cv2.putText(img, text, (100, 150), cv2.FONT_HERSHEY_SIMPLEX, 0.8, \n",
    "                (255, 255, 255), 1, cv2.LINE_AA)\n",
    "\n",
    "    cv2.imshow('image', img)\n",
    "    cv2.waitKey()\n",
    "\n",
    "    cv2.destroyAllWindows()\n",
    "    \n",
    "    total_pts[i]['p1'] = result"
   ]
  },
  {
   "cell_type": "code",
   "execution_count": 31,
   "id": "da396e84",
   "metadata": {},
   "outputs": [
    {
     "name": "stdout",
     "output_type": "stream",
     "text": [
      "EVENT_LBUTTONDOWN: 532, 484\n",
      "EVENT_LBUTTONDOWN: 499, 497\n",
      "EVENT_LBUTTONDOWN: 456, 487\n",
      "EVENT_LBUTTONDOWN: 419, 468\n",
      "EVENT_LBUTTONDOWN: 466, 455\n",
      "EVENT_LBUTTONDOWN: 485, 472\n",
      "EVENT_LBUTTONDOWN: 474, 501\n",
      "EVENT_LBUTTONDOWN: 424, 517\n",
      "EVENT_LBUTTONDOWN: 467, 539\n",
      "EVENT_LBUTTONDOWN: 476, 502\n",
      "EVENT_LBUTTONDOWN: 456, 530\n",
      "EVENT_LBUTTONDOWN: 487, 508\n",
      "EVENT_LBUTTONDOWN: 455, 551\n",
      "EVENT_LBUTTONDOWN: 450, 594\n",
      "EVENT_LBUTTONDOWN: 493, 597\n",
      "EVENT_LBUTTONDOWN: 459, 592\n",
      "EVENT_LBUTTONDOWN: 409, 630\n",
      "EVENT_LBUTTONDOWN: 422, 621\n"
     ]
    }
   ],
   "source": [
    "# 개별 이미지 별로 유지 영역(p1) 좌표 추출\n",
    "# 각 이미지 마다 유지 영역의 좌표들을 좌클릭, esc를 누르면 다음 이미지로 넘어감\n",
    "for i in range(start, end+1):\n",
    "    img = cv2.imread(ndvi_img_dict[i])  # NDVI 이미지\n",
    "    result = []\n",
    "    \n",
    "    cv2.namedWindow('image')\n",
    "    cv2.setMouseCallback('image', on_mouse, img) # 발생하는 마우스 이벤트를 반영\n",
    "    \n",
    "    # 텍스트\n",
    "    text = ndvi_img_dict[i].split('/')[-1]\n",
    "    cv2.putText(img, text, (100, 50), cv2.FONT_HERSHEY_SIMPLEX, 0.8, \n",
    "                (255, 255, 255), 1, cv2.LINE_AA)\n",
    "    \n",
    "    text = 'Click the Points of Non-Growth Areas (Press ESC to move on to the next image)'\n",
    "    cv2.putText(img, text, (100, 150), cv2.FONT_HERSHEY_SIMPLEX, 0.8, \n",
    "                (255, 255, 255), 1, cv2.LINE_AA)\n",
    "\n",
    "    cv2.imshow('image', img)\n",
    "    cv2.waitKey()\n",
    "\n",
    "    cv2.destroyAllWindows()\n",
    "    \n",
    "    total_pts[i]['p2'] = result"
   ]
  },
  {
   "cell_type": "code",
   "execution_count": 32,
   "id": "9e21c22a",
   "metadata": {},
   "outputs": [
    {
     "data": {
      "text/plain": [
       "{7: {'p1': [(687, 413), (695, 385), (709, 368), (732, 351), (743, 342)],\n",
       "  'p2': [(532, 484), (499, 497), (456, 487), (419, 468), (466, 455)]},\n",
       " 8: {'p1': [(749, 273),\n",
       "   (772, 279),\n",
       "   (775, 308),\n",
       "   (735, 317),\n",
       "   (742, 337),\n",
       "   (771, 334),\n",
       "   (731, 357),\n",
       "   (705, 358),\n",
       "   (736, 385),\n",
       "   (715, 408)],\n",
       "  'p2': [(485, 472), (474, 501), (424, 517), (467, 539)]},\n",
       " 9: {'p1': [(779, 237),\n",
       "   (750, 263),\n",
       "   (727, 294),\n",
       "   (713, 339),\n",
       "   (696, 377),\n",
       "   (692, 395)],\n",
       "  'p2': [(476, 502), (456, 530)]},\n",
       " 10: {'p1': [(736, 204),\n",
       "   (775, 214),\n",
       "   (747, 242),\n",
       "   (771, 250),\n",
       "   (739, 307),\n",
       "   (696, 308),\n",
       "   (737, 332),\n",
       "   (710, 367)],\n",
       "  'p2': [(487, 508),\n",
       "   (455, 551),\n",
       "   (450, 594),\n",
       "   (493, 597),\n",
       "   (459, 592),\n",
       "   (409, 630),\n",
       "   (422, 621)]}}"
      ]
     },
     "execution_count": 32,
     "metadata": {},
     "output_type": "execute_result"
    }
   ],
   "source": [
    "total_pts  # (x, y)"
   ]
  },
  {
   "cell_type": "code",
   "execution_count": 275,
   "id": "adae2b88",
   "metadata": {},
   "outputs": [],
   "source": [
    "# leaf_points.m (mode=3) - 실험용\n",
    "total_pts = {7: {'p1': [(704, 338), (712, 408)],\n",
    "                 'p2': [(416, 436), (488, 426), (418, 502), (486, 506)]},\n",
    "             8: {'p1': [(740, 298), (708, 358), (724, 398)],\n",
    "                 'p2': [(432, 484), (490, 468), (426, 552), (496, 536)]},\n",
    "             9: {'p1': [(710, 280), (764, 302), (688, 326), (736, 362)],\n",
    "                 'p2': [(444, 492), (438, 566), (498, 544)]},\n",
    "             10: {'p1': [(723, 232), (776, 278), (692, 316), (750, 340)],\n",
    "                  'p2': [(466, 530), (454, 610), (504, 590)]}}"
   ]
  },
  {
   "cell_type": "markdown",
   "id": "af0e0f68",
   "metadata": {},
   "source": [
    "### 좌표 확인 (영역 시각화)"
   ]
  },
  {
   "cell_type": "code",
   "execution_count": 33,
   "id": "998110b2",
   "metadata": {},
   "outputs": [],
   "source": [
    "for i in range(start, end+1):\n",
    "    r = 10\n",
    "    img = cv2.imread(ndvi_img_dict[i])\n",
    "    \n",
    "    save_path = data_path + '/' + 'results' + '/' 'NDVI'\n",
    "    \n",
    "    pts = total_pts[i]\n",
    "    pts_p1 = pts['p1']\n",
    "    pts_p2 = pts['p2']\n",
    "    \n",
    "    for pt in pts_p1:\n",
    "        x = pt[0]\n",
    "        y = pt[1]\n",
    "        cv2.rectangle(img, (x-r, y+r), (x+r, y-r), (0, 128, 0), -1)  # 초록색 : 생장 영역\n",
    "        \n",
    "    for pt in pts_p2:\n",
    "        x = pt[0]\n",
    "        y = pt[1]\n",
    "        cv2.rectangle(img, (x-r, y+r), (x+r, y-r), (0, 0, 128), -1)  # 빨간색 : 유지 영역\n",
    "    \n",
    "    # 텍스트\n",
    "    text1 = ndvi_img_dict[i].split('/')[-1]\n",
    "    cv2.putText(img, text1, (50, 50), cv2.FONT_HERSHEY_SIMPLEX, 0.8, \n",
    "                (255, 255, 255), 1, cv2.LINE_AA)\n",
    "    text2 = 'Growth'\n",
    "    cv2.putText(img, text2, (50, 150), cv2.FONT_HERSHEY_SIMPLEX, 0.8, \n",
    "                (0, 255, 0), 1, cv2.LINE_AA)\n",
    "    text3 = 'Non-Growth'\n",
    "    cv2.putText(img, text3, (50, 200), cv2.FONT_HERSHEY_SIMPLEX, 0.8, \n",
    "                (0, 0, 255), 1, cv2.LINE_AA)\n",
    "    \n",
    "    cv2.imshow(\"img\", img)\n",
    "    cv2.imwrite(save_path + '/' + str(i) + '_' + text1, img)  # 이미지 저장 (생장, 유지 포인트 표시)\n",
    "    cv2.waitKey()\n",
    "    cv2.destroyAllWindows()"
   ]
  },
  {
   "cell_type": "markdown",
   "id": "fd94dd5e",
   "metadata": {},
   "source": [
    "### 좌표를 중심으로한 일정 영역의 NIR 평균 계산\n",
    "\n",
    "위에서 구한 total_pts의 좌표를 중심으로한 특정 직사각형 영역의 NIR 평균 계산"
   ]
  },
  {
   "cell_type": "code",
   "execution_count": 34,
   "id": "f0010f98",
   "metadata": {},
   "outputs": [],
   "source": [
    "r = 10  # 영역 지정 변수\n",
    "p1_mean = [] ; p2_mean = []  # 정규화한 NDVI 이미지의 NDVI 평균값 저장 \n",
    "p1_mean2 = [] ; p2_mean2 = []  # 정규화한 NDVI 785이미지의 NDVI 평균값 저장"
   ]
  },
  {
   "cell_type": "code",
   "execution_count": 35,
   "id": "8c0b5557",
   "metadata": {},
   "outputs": [],
   "source": [
    "# p1_mean 계산\n",
    "for i in range(start, end+1):\n",
    "    ndvi_img = cv2.imread(ndvi_img_dict[i])  # 특정 index의 NDVI 이미지 불러오기\n",
    "    max_val = np.max(ndvi_img) ; min_val = np.min(ndvi_img)\n",
    "    \n",
    "    nor_ndvi = (ndvi_img - min_val) / (max_val - min_val)  # NDVI 이미지 정규화\n",
    "    \n",
    "    centers_p1 = total_pts[i]['p1']  # 처리하는 이미지에 대응하는 생장 좌표 정보 불러오기\n",
    "    \n",
    "    mean_res = []  # 중간 결과 저장\n",
    "    for center in centers_p1:  # (x, y)\n",
    "        x = center[0] ; y = center[1]\n",
    "        # bottom_left = (x-r, y+r) ; upper_right = (x+r, y-r)\n",
    "        \n",
    "        img_clone = nor_ndvi.copy()\n",
    "        dst = img_clone[y-r:y+r, x-r:x+r] \n",
    "        \n",
    "        mean_res.append(dst.mean())\n",
    "        \n",
    "    p1_mean.append(np.mean(mean_res)) "
   ]
  },
  {
   "cell_type": "code",
   "execution_count": 36,
   "id": "aece7fb0",
   "metadata": {},
   "outputs": [],
   "source": [
    "# p2_mean 계산\n",
    "for i in range(start, end+1):\n",
    "    ndvi_img = cv2.imread(ndvi_img_dict[i])  # 특정 index의 NDVI 이미지 불러오기\n",
    "    max_val = np.max(ndvi_img) ; min_val = np.min(ndvi_img)\n",
    "    \n",
    "    nor_ndvi = (ndvi_img - min_val) / (max_val - min_val)  # NDVI 이미지 정규화\n",
    "    \n",
    "    centers_p2 = total_pts[i]['p2']  # 처리하는 이미지에 대응하는 유지 좌표 정보 불러오기\n",
    "    \n",
    "    mean_res = []  # 중간 결과 저장\n",
    "    for center in centers_p2:  # (x, y)\n",
    "        x = center[0] ; y = center[1]\n",
    "        # bottom_left = (x-r, y+r) ; upper_right = (x+r, y-r)\n",
    "        \n",
    "        img_clone = nor_ndvi.copy()\n",
    "        dst = img_clone[y-r:y+r, x-r:x+r] \n",
    "        \n",
    "        mean_res.append(dst.mean())\n",
    "        \n",
    "    p2_mean.append(np.mean(mean_res)) "
   ]
  },
  {
   "cell_type": "code",
   "execution_count": 37,
   "id": "844c6754",
   "metadata": {},
   "outputs": [],
   "source": [
    "# p1_mean2 계산\n",
    "for i in range(start, end+1):\n",
    "    ndvi785_img = cv2.imread(ndvi785_img_dict[i])  # 특정 index의 NDVI 785 이미지 불러오기\n",
    "    max_val = np.max(ndvi785_img) ; min_val = np.min(ndvi785_img)\n",
    "    \n",
    "    nor_ndvi785 = (ndvi785_img - min_val) / (max_val - min_val)  # NDVI 785 이미지 정규화\n",
    "    \n",
    "    centers_p1 = total_pts[i]['p1']  # 처리하는 이미지에 대응하는 좌표 정보 불러오기\n",
    "    \n",
    "    mean_res = []  # 중간 결과 저장\n",
    "    for center in centers_p1:  # (x, y)\n",
    "        x = center[0] ; y = center[1]\n",
    "        # bottom_left = (x-r, y+r) ; upper_right = (x+r, y-r)\n",
    "        \n",
    "        img_clone = nor_ndvi785.copy()\n",
    "        dst = img_clone[y-r:y+r, x-r:x+r] \n",
    "        \n",
    "        mean_res.append(dst.mean())\n",
    "        \n",
    "    p1_mean2.append(np.mean(mean_res)) "
   ]
  },
  {
   "cell_type": "code",
   "execution_count": 38,
   "id": "3681353e",
   "metadata": {},
   "outputs": [],
   "source": [
    "# p2_mean2 계산\n",
    "for i in range(start, end+1):\n",
    "    ndvi785_img = cv2.imread(ndvi785_img_dict[i])  # 특정 index의 NDVI 785 이미지 불러오기\n",
    "    max_val = np.max(ndvi785_img) ; min_val = np.min(ndvi785_img)\n",
    "    \n",
    "    nor_ndvi785 = (ndvi785_img - min_val) / (max_val - min_val)  # NDVI 785 이미지 정규화\n",
    "    \n",
    "    centers_p2 = total_pts[i]['p2']  # 처리하는 이미지에 대응하는 좌표 정보 불러오기\n",
    "    \n",
    "    mean_res = []  # 중간 결과 저장\n",
    "    for center in centers_p2:  # (x, y)\n",
    "        x = center[0] ; y = center[1]\n",
    "        # bottom_left = (x-r, y+r) ; upper_right = (x+r, y-r)\n",
    "        \n",
    "        img_clone = nor_ndvi785.copy()\n",
    "        dst = img_clone[y-r:y+r, x-r:x+r] \n",
    "        \n",
    "        mean_res.append(dst.mean())\n",
    "        \n",
    "    p2_mean2.append(np.mean(mean_res)) "
   ]
  },
  {
   "cell_type": "markdown",
   "id": "06cc68dc",
   "metadata": {},
   "source": [
    "### 결과 정리"
   ]
  },
  {
   "cell_type": "code",
   "execution_count": 39,
   "id": "9f367df5",
   "metadata": {},
   "outputs": [],
   "source": [
    "# 생장 - 유지\n",
    "leaf_mean = []\n",
    "for i in range(len(p1_mean)):\n",
    "    leaf_mean.append(p1_mean[i] - p2_mean[i])\n",
    "    \n",
    "leaf_mean2 = []\n",
    "for i in range(len(p1_mean2)):\n",
    "    leaf_mean2.append(p1_mean2[i] - p2_mean2[i])\n",
    "    \n",
    "# 100 * 생장 / 유지\n",
    "leaf_ratio = []\n",
    "for i in range(len(p1_mean)):\n",
    "    leaf_ratio.append(100 * (p1_mean[i] / p2_mean[i]))\n",
    "    \n",
    "leaf_ratio2 = []\n",
    "for i in range(len(p1_mean2)):\n",
    "    leaf_ratio2.append(100 * (p1_mean2[i] / p2_mean2[i]))"
   ]
  },
  {
   "cell_type": "code",
   "execution_count": 46,
   "id": "ae739fc7",
   "metadata": {},
   "outputs": [
    {
     "data": {
      "image/png": "[encoded data removed]",
      "text/plain": [
       "<Figure size 432x288 with 1 Axes>"
      ]
     },
     "metadata": {
      "needs_background": "light"
     },
     "output_type": "display_data"
    }
   ],
   "source": [
    "days = list(range(0, end-start+1))\n",
    "\n",
    "plt.plot(p1_mean, marker='o', label='Growth')\n",
    "plt.plot(p2_mean, marker='o', label='Non-Growth')\n",
    "plt.xticks(days)\n",
    "plt.xlabel('Days')\n",
    "plt.ylabel('NDVI')\n",
    "plt.title('NDVI Comparison')\n",
    "plt.legend(loc='best') \n",
    "# plt.show()\n",
    "\n",
    "plt.savefig(f'F:/RGB-NIR/{mode}/results/NDVI/NDVI_comparison.png')"
   ]
  },
  {
   "cell_type": "code",
   "execution_count": 47,
   "id": "abbba5a0",
   "metadata": {},
   "outputs": [
    {
     "data": {
      "image/png": "[encoded data removed]",
      "text/plain": [
       "<Figure size 432x288 with 1 Axes>"
      ]
     },
     "metadata": {
      "needs_background": "light"
     },
     "output_type": "display_data"
    }
   ],
   "source": [
    "plt.plot(p1_mean2, marker='o', label='Growth')\n",
    "plt.plot(p2_mean2, marker='o', label='Non-Growth')\n",
    "plt.xticks(days)\n",
    "plt.xlabel('Days')\n",
    "plt.ylabel('NDVI 785')\n",
    "plt.title('NDVI 785 Comparison')\n",
    "plt.legend(loc='best') \n",
    "#plt.show()\n",
    "\n",
    "plt.savefig(f'F:/RGB-NIR/{mode}/results/NDVI/NDVI_785_comparison.png')"
   ]
  },
  {
   "cell_type": "code",
   "execution_count": 48,
   "id": "0d3d9b6d",
   "metadata": {},
   "outputs": [
    {
     "data": {
      "image/png": "[encoded data removed]",
      "text/plain": [
       "<Figure size 432x288 with 1 Axes>"
      ]
     },
     "metadata": {
      "needs_background": "light"
     },
     "output_type": "display_data"
    }
   ],
   "source": [
    "plt.plot(leaf_mean, marker='o')\n",
    "plt.xticks(days)\n",
    "plt.title('NDVI : Growth - Non Growth')\n",
    "plt.xlabel('Days')\n",
    "plt.ylabel('NDVI Diffs')\n",
    "# plt.show()\n",
    "\n",
    "plt.savefig(f'F:/RGB-NIR/{mode}/results/NDVI/NDVI_Diff.png')"
   ]
  },
  {
   "cell_type": "code",
   "execution_count": 49,
   "id": "3deec882",
   "metadata": {},
   "outputs": [
    {
     "data": {
      "image/png": "[encoded data removed]",
      "text/plain": [
       "<Figure size 432x288 with 1 Axes>"
      ]
     },
     "metadata": {
      "needs_background": "light"
     },
     "output_type": "display_data"
    }
   ],
   "source": [
    "plt.plot(leaf_mean2, marker='o')\n",
    "plt.xticks(days)\n",
    "plt.title('NDVI 785 : Growth - Non Growth')\n",
    "plt.xlabel('Days')\n",
    "plt.ylabel('NDVI 785 Diffs')\n",
    "# plt.show()\n",
    "\n",
    "plt.savefig(f'F:/RGB-NIR/{mode}/results/NDVI/NDVI_785_Diff.png')"
   ]
  },
  {
   "cell_type": "code",
   "execution_count": 50,
   "id": "0648f191",
   "metadata": {},
   "outputs": [
    {
     "data": {
      "image/png": "[encoded data removed]",
      "text/plain": [
       "<Figure size 432x288 with 1 Axes>"
      ]
     },
     "metadata": {
      "needs_background": "light"
     },
     "output_type": "display_data"
    }
   ],
   "source": [
    "plt.plot(leaf_ratio, marker='o')\n",
    "plt.xticks(days)\n",
    "plt.title('NDVI : 100 * Growth / Non Growth')\n",
    "plt.xlabel('Days')\n",
    "plt.ylabel('NDVI Ratio')\n",
    "# plt.show()\n",
    "\n",
    "plt.savefig(f'F:/RGB-NIR/{mode}/results/NDVI/NDVI_Ratio.png')"
   ]
  },
  {
   "cell_type": "code",
   "execution_count": 51,
   "id": "14f23391",
   "metadata": {},
   "outputs": [
    {
     "data": {
      "image/png": "[encoded data removed]",
      "text/plain": [
       "<Figure size 432x288 with 1 Axes>"
      ]
     },
     "metadata": {
      "needs_background": "light"
     },
     "output_type": "display_data"
    }
   ],
   "source": [
    "plt.plot(leaf_ratio2, marker='o')\n",
    "plt.xticks(days)\n",
    "plt.title('NDVI 785 :100 * Growth / Non Growth')\n",
    "plt.xlabel('Days')\n",
    "plt.ylabel('NDVI 785 Ratio')\n",
    "#plt.show()\n",
    "\n",
    "plt.savefig(f'F:/RGB-NIR/{mode}/results/NDVI/NDVI_785_Ratio.png')"
   ]
  },
  {
   "cell_type": "code",
   "execution_count": null,
   "id": "02927346",
   "metadata": {},
   "outputs": [],
   "source": []
  },
  {
   "cell_type": "code",
   "execution_count": null,
   "id": "30d6770f",
   "metadata": {},
   "outputs": [],
   "source": []
  }
 ],
 "metadata": {
  "kernelspec": {
   "display_name": "Python 3",
   "language": "python",
   "name": "python3"
  },
  "language_info": {
   "codemirror_mode": {
    "name": "ipython",
    "version": 3
   },
   "file_extension": ".py",
   "mimetype": "text/x-python",
   "name": "python",
   "nbconvert_exporter": "python",
   "pygments_lexer": "ipython3",
   "version": "3.7.10"
  }
 },
 "nbformat": 4,
 "nbformat_minor": 5
}
