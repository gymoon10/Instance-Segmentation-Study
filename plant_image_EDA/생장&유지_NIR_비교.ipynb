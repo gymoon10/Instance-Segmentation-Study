{
 "cells": [
  {
   "cell_type": "code",
   "execution_count": null,
   "id": "39483e81",
   "metadata": {},
   "outputs": [],
   "source": []
  },
  {
   "cell_type": "code",
   "execution_count": 220,
   "id": "fca030ff",
   "metadata": {},
   "outputs": [],
   "source": [
    "import cv2\n",
    "import numpy as np\n",
    "import os\n",
    "import matplotlib.pyplot as plt"
   ]
  },
  {
   "cell_type": "code",
   "execution_count": 221,
   "id": "72e2bbe2",
   "metadata": {},
   "outputs": [],
   "source": [
    "# 처리할 이미지 범위 지정\n",
    "start = 7 \n",
    "end = 10\n",
    "\n",
    "# 개별 이미지들의 처리 point 좌표 (x, y)\n",
    "total_pts = {}\n",
    "for i in range(start, end+1):\n",
    "    total_pts[i] = {'p1' : [],  # 생장 영역 좌표 \n",
    "                    'p2' : []}  # 유지 영역 좌표 "
   ]
  },
  {
   "cell_type": "markdown",
   "id": "03caf458",
   "metadata": {},
   "source": [
    "### Image Data"
   ]
  },
  {
   "cell_type": "code",
   "execution_count": 222,
   "id": "56c7bdf5",
   "metadata": {},
   "outputs": [],
   "source": [
    "root_path = 'F:/RGB-NIR/'\n",
    "mode = 3\n",
    "\n",
    "data_path = root_path + str(mode)\n",
    "\n",
    "bgr_path = data_path + '/' + 'RGB'  # RGB 이미지 폴더 경로\n",
    "nir_path = data_path + '/' + 'NIR'  # NIR 이미지 폴더 경로\n",
    "nir785_path = data_path + '/' + 'NIR_785'  # NIR 785 이미지 폴더 경로\n",
    "\n",
    "# 위 폴더에 저장되어 있는 모든 이미지들의 경로를 저장\n",
    "bgr_img_list = os.listdir(bgr_path)  # 리스트로 저장\n",
    "bgr_img_dict = {idx:bgr_path+'/'+img_path for idx, img_path in enumerate(bgr_img_list)}  # 폴더에서 몇 번째 이미지에 해당하는 지\n",
    "\n",
    "nir_img_list = os.listdir(nir_path)\n",
    "nir_img_dict = {idx:nir_path+'/'+img_path for idx, img_path in enumerate(nir_img_list)}   \n",
    "\n",
    "nir785_img_list = os.listdir(nir785_path)\n",
    "nir785_img_dict = {idx:nir785_path+'/'+img_path for idx, img_path in enumerate(nir785_img_list)}   "
   ]
  },
  {
   "cell_type": "markdown",
   "id": "66008dbf",
   "metadata": {},
   "source": [
    "### 마우스 클릭으로 좌표 추출"
   ]
  },
  {
   "cell_type": "code",
   "execution_count": 223,
   "id": "19fd8e71",
   "metadata": {},
   "outputs": [],
   "source": [
    "# 마우스 이벤트 처리 함수 (참고: https://github.com/gymoon10/OpenCV/blob/main/OpenCV%20%EC%82%AC%EC%9A%A9%EB%B2%95.ipynb)\n",
    "def on_mouse(event, x, y, flags, param):\n",
    "    global oldx, oldy\n",
    "    \n",
    "    # 좌클릭에 반응\n",
    "    if event == cv2.EVENT_LBUTTONDOWN:\n",
    "        oldx, oldy = x, y\n",
    "        print('EVENT_LBUTTONDOWN: %d, %d' % (x, y))\n",
    "        \n",
    "        result.append((x, y))\n",
    "        \n",
    "    return result"
   ]
  },
  {
   "cell_type": "code",
   "execution_count": 226,
   "id": "1c63dbf6",
   "metadata": {},
   "outputs": [
    {
     "name": "stdout",
     "output_type": "stream",
     "text": [
      "EVENT_LBUTTONDOWN: 694, 336\n",
      "EVENT_LBUTTONDOWN: 704, 353\n",
      "EVENT_LBUTTONDOWN: 718, 368\n",
      "EVENT_LBUTTONDOWN: 739, 338\n",
      "EVENT_LBUTTONDOWN: 717, 330\n",
      "EVENT_LBUTTONDOWN: 721, 360\n",
      "EVENT_LBUTTONDOWN: 731, 373\n",
      "EVENT_LBUTTONDOWN: 731, 373\n",
      "EVENT_LBUTTONDOWN: 718, 344\n",
      "EVENT_LBUTTONDOWN: 751, 337\n",
      "EVENT_LBUTTONDOWN: 729, 320\n",
      "EVENT_LBUTTONDOWN: 770, 317\n",
      "EVENT_LBUTTONDOWN: 749, 307\n",
      "EVENT_LBUTTONDOWN: 741, 285\n",
      "EVENT_LBUTTONDOWN: 736, 295\n",
      "EVENT_LBUTTONDOWN: 738, 318\n",
      "EVENT_LBUTTONDOWN: 704, 319\n",
      "EVENT_LBUTTONDOWN: 739, 342\n",
      "EVENT_LBUTTONDOWN: 779, 203\n",
      "EVENT_LBUTTONDOWN: 757, 251\n",
      "EVENT_LBUTTONDOWN: 724, 311\n",
      "EVENT_LBUTTONDOWN: 712, 347\n",
      "EVENT_LBUTTONDOWN: 703, 374\n"
     ]
    }
   ],
   "source": [
    "# 개별 이미지 별로 생장 영역(p1) 좌표 추출\n",
    "# 각 이미지 마다 생장 영역의 좌표들을 좌클릭, esc를 누르면 다음 이미지로 넘어감\n",
    "for i in range(start, end+1):\n",
    "    img = cv2.imread(bgr_img_dict[i])  # BGR 이미지\n",
    "    result = []\n",
    "    \n",
    "    cv2.namedWindow('image')\n",
    "    cv2.setMouseCallback('image', on_mouse, img) # 발생하는 마우스 이벤트를 반영\n",
    "    \n",
    "    # 텍스트\n",
    "    text = bgr_img_dict[i].split('/')[-1]\n",
    "    cv2.putText(img, text, (100, 50), cv2.FONT_HERSHEY_SIMPLEX, 0.8, \n",
    "                (255, 255, 255), 1, cv2.LINE_AA)\n",
    "    \n",
    "    text = 'Click the Points of Growth Areas (Press ESC to move on to the next image)'\n",
    "    cv2.putText(img, text, (100, 150), cv2.FONT_HERSHEY_SIMPLEX, 0.8, \n",
    "                (255, 255, 255), 1, cv2.LINE_AA)\n",
    "\n",
    "    cv2.imshow('image', img)\n",
    "    cv2.waitKey()\n",
    "\n",
    "    cv2.destroyAllWindows()\n",
    "    \n",
    "    total_pts[i]['p1'] = result"
   ]
  },
  {
   "cell_type": "code",
   "execution_count": 227,
   "id": "c3fda999",
   "metadata": {},
   "outputs": [
    {
     "name": "stdout",
     "output_type": "stream",
     "text": [
      "EVENT_LBUTTONDOWN: 393, 480\n",
      "EVENT_LBUTTONDOWN: 425, 452\n",
      "EVENT_LBUTTONDOWN: 452, 424\n",
      "EVENT_LBUTTONDOWN: 470, 458\n",
      "EVENT_LBUTTONDOWN: 500, 488\n",
      "EVENT_LBUTTONDOWN: 447, 523\n",
      "EVENT_LBUTTONDOWN: 484, 449\n",
      "EVENT_LBUTTONDOWN: 462, 477\n",
      "EVENT_LBUTTONDOWN: 453, 519\n",
      "EVENT_LBUTTONDOWN: 460, 557\n",
      "EVENT_LBUTTONDOWN: 399, 566\n",
      "EVENT_LBUTTONDOWN: 427, 537\n",
      "EVENT_LBUTTONDOWN: 452, 524\n",
      "EVENT_LBUTTONDOWN: 462, 480\n",
      "EVENT_LBUTTONDOWN: 477, 499\n",
      "EVENT_LBUTTONDOWN: 479, 535\n",
      "EVENT_LBUTTONDOWN: 521, 538\n",
      "EVENT_LBUTTONDOWN: 486, 569\n",
      "EVENT_LBUTTONDOWN: 432, 609\n",
      "EVENT_LBUTTONDOWN: 418, 627\n",
      "EVENT_LBUTTONDOWN: 478, 628\n",
      "EVENT_LBUTTONDOWN: 489, 584\n",
      "EVENT_LBUTTONDOWN: 461, 579\n"
     ]
    }
   ],
   "source": [
    "# 개별 이미지 별로 유지 영역(p1) 좌표 추출\n",
    "# 각 이미지 마다 유지 영역의 좌표들을 좌클릭, esc를 누르면 다음 이미지로 넘어감\n",
    "for i in range(start, end+1):\n",
    "    img = cv2.imread(bgr_img_dict[i])  # BGR 이미지\n",
    "    result = []\n",
    "    \n",
    "    cv2.namedWindow('image')\n",
    "    cv2.setMouseCallback('image', on_mouse, img) # 발생하는 마우스 이벤트를 반영\n",
    "    \n",
    "    # 텍스트\n",
    "    text = bgr_img_dict[i].split('/')[-1]\n",
    "    cv2.putText(img, text, (100, 50), cv2.FONT_HERSHEY_SIMPLEX, 0.8, \n",
    "                (255, 255, 255), 1, cv2.LINE_AA)\n",
    "    \n",
    "    text = 'Click the Points of Non-Growth Areas (Press ESC to move on to the next image)'\n",
    "    cv2.putText(img, text, (100, 150), cv2.FONT_HERSHEY_SIMPLEX, 0.8, \n",
    "                (255, 255, 255), 1, cv2.LINE_AA)\n",
    "\n",
    "    cv2.imshow('image', img)\n",
    "    cv2.waitKey()\n",
    "\n",
    "    cv2.destroyAllWindows()\n",
    "    \n",
    "    total_pts[i]['p2'] = result"
   ]
  },
  {
   "cell_type": "code",
   "execution_count": 228,
   "id": "1173d6ee",
   "metadata": {},
   "outputs": [
    {
     "data": {
      "text/plain": [
       "{7: {'p1': [(694, 336),\n",
       "   (704, 353),\n",
       "   (718, 368),\n",
       "   (739, 338),\n",
       "   (717, 330),\n",
       "   (721, 360),\n",
       "   (731, 373)],\n",
       "  'p2': [(393, 480),\n",
       "   (425, 452),\n",
       "   (452, 424),\n",
       "   (470, 458),\n",
       "   (500, 488),\n",
       "   (447, 523)]},\n",
       " 8: {'p1': [(731, 373),\n",
       "   (718, 344),\n",
       "   (751, 337),\n",
       "   (729, 320),\n",
       "   (770, 317),\n",
       "   (749, 307),\n",
       "   (741, 285)],\n",
       "  'p2': [(484, 449), (462, 477), (453, 519), (460, 557)]},\n",
       " 9: {'p1': [(736, 295), (738, 318), (704, 319), (739, 342)],\n",
       "  'p2': [(399, 566), (427, 537), (452, 524), (462, 480)]},\n",
       " 10: {'p1': [(779, 203), (757, 251), (724, 311), (712, 347), (703, 374)],\n",
       "  'p2': [(477, 499),\n",
       "   (479, 535),\n",
       "   (521, 538),\n",
       "   (486, 569),\n",
       "   (432, 609),\n",
       "   (418, 627),\n",
       "   (478, 628),\n",
       "   (489, 584),\n",
       "   (461, 579)]}}"
      ]
     },
     "execution_count": 228,
     "metadata": {},
     "output_type": "execute_result"
    }
   ],
   "source": [
    "total_pts  # (x, y)"
   ]
  },
  {
   "cell_type": "code",
   "execution_count": 275,
   "id": "1bc2aebf",
   "metadata": {},
   "outputs": [],
   "source": [
    "# leaf_points.m (mode=3) - 실험용\n",
    "total_pts = {7: {'p1': [(704, 338), (712, 408)],\n",
    "                 'p2': [(416, 436), (488, 426), (418, 502), (486, 506)]},\n",
    "             8: {'p1': [(740, 298), (708, 358), (724, 398)],\n",
    "                 'p2': [(432, 484), (490, 468), (426, 552), (496, 536)]},\n",
    "             9: {'p1': [(710, 280), (764, 302), (688, 326), (736, 362)],\n",
    "                 'p2': [(444, 492), (438, 566), (498, 544)]},\n",
    "             10: {'p1': [(723, 232), (776, 278), (692, 316), (750, 340)],\n",
    "                  'p2': [(466, 530), (454, 610), (504, 590)]}}"
   ]
  },
  {
   "cell_type": "markdown",
   "id": "70854a4b",
   "metadata": {},
   "source": [
    "### 좌표 확인 (영역 시각화)"
   ]
  },
  {
   "cell_type": "code",
   "execution_count": 308,
   "id": "54fc89e8",
   "metadata": {},
   "outputs": [],
   "source": [
    "for i in range(start, end+1):\n",
    "    r = 10\n",
    "    img = cv2.imread(bgr_img_dict[i])\n",
    "    \n",
    "    save_path = data_path + '/' + 'results' + '/' 'original'\n",
    "    \n",
    "    pts = total_pts[i]\n",
    "    pts_p1 = pts['p1']\n",
    "    pts_p2 = pts['p2']\n",
    "    \n",
    "    for pt in pts_p1:\n",
    "        x = pt[0]\n",
    "        y = pt[1]\n",
    "        cv2.rectangle(img, (x-r, y+r), (x+r, y-r), (0, 128, 0), -1)  # 초록색 : 생장 영역\n",
    "        \n",
    "    for pt in pts_p2:\n",
    "        x = pt[0]\n",
    "        y = pt[1]\n",
    "        cv2.rectangle(img, (x-r, y+r), (x+r, y-r), (0, 0, 128), -1)  # 빨간색 : 유지 영역\n",
    "    \n",
    "    # 텍스트\n",
    "    text1 = bgr_img_dict[i].split('/')[-1]\n",
    "    cv2.putText(img, text1, (50, 50), cv2.FONT_HERSHEY_SIMPLEX, 0.8, \n",
    "                (255, 255, 255), 1, cv2.LINE_AA)\n",
    "    text2 = 'Growth'\n",
    "    cv2.putText(img, text2, (50, 150), cv2.FONT_HERSHEY_SIMPLEX, 0.8, \n",
    "                (0, 255, 0), 1, cv2.LINE_AA)\n",
    "    text3 = 'Non-Growth'\n",
    "    cv2.putText(img, text3, (50, 200), cv2.FONT_HERSHEY_SIMPLEX, 0.8, \n",
    "                (0, 0, 255), 1, cv2.LINE_AA)\n",
    "    \n",
    "    cv2.imshow(\"img\", img)\n",
    "    cv2.imwrite(save_path + '/' + str(i) + '_' + text1, img)  # 이미지 저장 (생장, 유지 포인트 표시)\n",
    "    cv2.waitKey()\n",
    "    cv2.destroyAllWindows()"
   ]
  },
  {
   "cell_type": "markdown",
   "id": "6a207b02",
   "metadata": {},
   "source": [
    "### 좌표를 중심으로한 일정 영역의 NIR 평균 계산\n",
    "\n",
    "위에서 구한 total_pts의 좌표를 중심으로한 특정 직사각형 영역의 NIR 평균 계산"
   ]
  },
  {
   "cell_type": "code",
   "execution_count": 277,
   "id": "b19aa2ce",
   "metadata": {},
   "outputs": [],
   "source": [
    "r = 10  # 영역 지정 변수\n",
    "p1_mean = [] ; p2_mean = []  # 정규화한 NIR 이미지의 NIR 평균값 저장 \n",
    "p1_mean2 = [] ; p2_mean2 = []  # 정규화한 NIR 785이미지의 NIR 평균값 저장"
   ]
  },
  {
   "cell_type": "code",
   "execution_count": 278,
   "id": "58bf136b",
   "metadata": {},
   "outputs": [],
   "source": [
    "# p1_mean 계산\n",
    "for i in range(start, end+1):\n",
    "    nir_img = cv2.imread(nir_img_dict[i])  # 특정 index의 NIR 이미지 불러오기\n",
    "    max_val = np.max(nir_img) ; min_val = np.min(nir_img)\n",
    "    \n",
    "    nor_nir = (nir_img - min_val) / (max_val - min_val)  # NIR 이미지 정규화\n",
    "    \n",
    "    centers_p1 = total_pts[i]['p1']  # 처리하는 이미지에 대응하는 생장 좌표 정보 불러오기\n",
    "    \n",
    "    mean_res = []  # 중간 결과 저장\n",
    "    for center in centers_p1:  # (x, y)\n",
    "        x = center[0] ; y = center[1]\n",
    "        # bottom_left = (x-r, y+r) ; upper_right = (x+r, y-r)\n",
    "        \n",
    "        img_clone = nor_nir.copy()\n",
    "        dst = img_clone[y-r:y+r, x-r:x+r] \n",
    "        \n",
    "        mean_res.append(dst.mean())\n",
    "        \n",
    "    p1_mean.append(np.mean(mean_res)) "
   ]
  },
  {
   "cell_type": "code",
   "execution_count": 279,
   "id": "68719e98",
   "metadata": {},
   "outputs": [],
   "source": [
    "# p2_mean 계산\n",
    "for i in range(start, end+1):\n",
    "    nir_img = cv2.imread(nir_img_dict[i])  # 특정 index의 NIR 이미지 불러오기\n",
    "    max_val = np.max(nir_img) ; min_val = np.min(nir_img)\n",
    "    \n",
    "    nor_nir = (nir_img - min_val) / (max_val - min_val)  # NIR 이미지 정규화\n",
    "    \n",
    "    centers_p2 = total_pts[i]['p2']  # 처리하는 이미지에 대응하는 유지 좌표 정보 불러오기\n",
    "    \n",
    "    mean_res = []  # 중간 결과 저장\n",
    "    for center in centers_p2:  # (x, y)\n",
    "        x = center[0] ; y = center[1]\n",
    "        # bottom_left = (x-r, y+r) ; upper_right = (x+r, y-r)\n",
    "        \n",
    "        img_clone = nor_nir.copy()\n",
    "        dst = img_clone[y-r:y+r, x-r:x+r] \n",
    "        \n",
    "        mean_res.append(dst.mean())\n",
    "        \n",
    "    p2_mean.append(np.mean(mean_res)) "
   ]
  },
  {
   "cell_type": "code",
   "execution_count": 280,
   "id": "54c6ff5d",
   "metadata": {},
   "outputs": [],
   "source": [
    "# p1_mean2 계산\n",
    "for i in range(start, end+1):\n",
    "    nir785_img = cv2.imread(nir785_img_dict[i])  # 특정 index의 NIR 785 이미지 불러오기\n",
    "    max_val = np.max(nir785_img) ; min_val = np.min(nir785_img)\n",
    "    \n",
    "    nor_nir785 = (nir785_img - min_val) / (max_val - min_val)  # NIR 이미지 정규화\n",
    "    \n",
    "    centers_p1 = total_pts[i]['p1']  # 처리하는 이미지에 대응하는 좌표 정보 불러오기\n",
    "    \n",
    "    mean_res = []  # 중간 결과 저장\n",
    "    for center in centers_p1:  # (x, y)\n",
    "        x = center[0] ; y = center[1]\n",
    "        # bottom_left = (x-r, y+r) ; upper_right = (x+r, y-r)\n",
    "        \n",
    "        img_clone = nor_nir785.copy()\n",
    "        dst = img_clone[y-r:y+r, x-r:x+r] \n",
    "        \n",
    "        mean_res.append(dst.mean())\n",
    "        \n",
    "    p1_mean2.append(np.mean(mean_res)) "
   ]
  },
  {
   "cell_type": "code",
   "execution_count": 281,
   "id": "9d945551",
   "metadata": {},
   "outputs": [],
   "source": [
    "# p2_mean2 계산\n",
    "for i in range(start, end+1):\n",
    "    nir785_img = cv2.imread(nir785_img_dict[i])  # 특정 index의 NIR 785 이미지 불러오기\n",
    "    max_val = np.max(nir785_img) ; min_val = np.min(nir785_img)\n",
    "    \n",
    "    nor_nir785 = (nir785_img - min_val) / (max_val - min_val)  # NIR 이미지 정규화\n",
    "    \n",
    "    centers_p2 = total_pts[i]['p2']  # 처리하는 이미지에 대응하는 좌표 정보 불러오기\n",
    "    \n",
    "    mean_res = []  # 중간 결과 저장\n",
    "    for center in centers_p2:  # (x, y)\n",
    "        x = center[0] ; y = center[1]\n",
    "        # bottom_left = (x-r, y+r) ; upper_right = (x+r, y-r)\n",
    "        \n",
    "        img_clone = nor_nir785.copy()\n",
    "        dst = img_clone[y-r:y+r, x-r:x+r] \n",
    "        \n",
    "        mean_res.append(dst.mean())\n",
    "        \n",
    "    p2_mean2.append(np.mean(mean_res)) "
   ]
  },
  {
   "cell_type": "markdown",
   "id": "2cd527cb",
   "metadata": {},
   "source": [
    "### 결과 정리"
   ]
  },
  {
   "cell_type": "code",
   "execution_count": 282,
   "id": "03afcac2",
   "metadata": {},
   "outputs": [],
   "source": [
    "# 생장 - 유지\n",
    "leaf_mean = []\n",
    "for i in range(len(p1_mean)):\n",
    "    leaf_mean.append(p1_mean[i] - p2_mean[i])\n",
    "    \n",
    "leaf_mean2 = []\n",
    "for i in range(len(p1_mean2)):\n",
    "    leaf_mean2.append(p1_mean2[i] - p2_mean2[i])\n",
    "    \n",
    "# 100 * 생장 / 유지\n",
    "leaf_ratio = []\n",
    "for i in range(len(p1_mean)):\n",
    "    leaf_ratio.append(100 * (p1_mean[i] / p2_mean[i]))\n",
    "    \n",
    "leaf_ratio2 = []\n",
    "for i in range(len(p1_mean2)):\n",
    "    leaf_ratio2.append(100 * (p1_mean2[i] / p2_mean2[i]))"
   ]
  },
  {
   "cell_type": "code",
   "execution_count": 325,
   "id": "70a7fe39",
   "metadata": {},
   "outputs": [
    {
     "data": {
      "image/png": "[encoded data removed]",
      "text/plain": [
       "<Figure size 432x288 with 1 Axes>"
      ]
     },
     "metadata": {
      "needs_background": "light"
     },
     "output_type": "display_data"
    }
   ],
   "source": [
    "days = list(range(0, end-start+1))\n",
    "\n",
    "plt.plot(p1_mean, marker='o', label='Growth')\n",
    "plt.plot(p2_mean, marker='o', label='Non-Growth')\n",
    "plt.xticks(days)\n",
    "plt.xlabel('Days')\n",
    "plt.ylabel('NIR')\n",
    "plt.title('NIR Comparison')\n",
    "plt.legend(loc='best') \n",
    "# plt.show()\n",
    "\n",
    "plt.savefig(f'F:/RGB-NIR/{mode}/results/NIR/NIR_comparison.png')"
   ]
  },
  {
   "cell_type": "code",
   "execution_count": 326,
   "id": "7db65103",
   "metadata": {},
   "outputs": [
    {
     "data": {
      "image/png": "[encoded data removed]",
      "text/plain": [
       "<Figure size 432x288 with 1 Axes>"
      ]
     },
     "metadata": {
      "needs_background": "light"
     },
     "output_type": "display_data"
    }
   ],
   "source": [
    "plt.plot(p1_mean2, marker='o', label='Growth')\n",
    "plt.plot(p2_mean2, marker='o', label='Non-Growth')\n",
    "plt.xticks(days)\n",
    "plt.xlabel('Days')\n",
    "plt.ylabel('NIR 785')\n",
    "plt.title('NIR 785 Comparison')\n",
    "plt.legend(loc='best') \n",
    "#plt.show()\n",
    "\n",
    "plt.savefig(f'F:/RGB-NIR/{mode}/results/NIR/NIR_785_comparison.png')"
   ]
  },
  {
   "cell_type": "code",
   "execution_count": 285,
   "id": "4eee0e14",
   "metadata": {},
   "outputs": [
    {
     "data": {
      "image/png": "[encoded data removed]",
      "text/plain": [
       "<Figure size 432x288 with 1 Axes>"
      ]
     },
     "metadata": {
      "needs_background": "light"
     },
     "output_type": "display_data"
    }
   ],
   "source": [
    "plt.plot(leaf_mean, marker='o')\n",
    "plt.xticks(days)\n",
    "plt.title('NIR : Growth - Non Growth')\n",
    "plt.xlabel('Days')\n",
    "plt.ylabel('NIR Diffs')\n",
    "# plt.show()\n",
    "\n",
    "plt.savefig(f'F:/RGB-NIR/{mode}/results/NIR/NIR_Diff.png')"
   ]
  },
  {
   "cell_type": "code",
   "execution_count": 286,
   "id": "a31f9d04",
   "metadata": {},
   "outputs": [
    {
     "data": {
      "image/png": "[encoded data removed]",
      "text/plain": [
       "<Figure size 432x288 with 1 Axes>"
      ]
     },
     "metadata": {
      "needs_background": "light"
     },
     "output_type": "display_data"
    }
   ],
   "source": [
    "plt.plot(leaf_mean2, marker='o')\n",
    "plt.xticks(days)\n",
    "plt.title('NIR 785 : Growth - Non Growth')\n",
    "plt.xlabel('Days')\n",
    "plt.ylabel('NIR 785 Diffs')\n",
    "# plt.show()\n",
    "\n",
    "plt.savefig(f'F:/RGB-NIR/{mode}/results/NIR/NIR_785_Diff.png')"
   ]
  },
  {
   "cell_type": "code",
   "execution_count": 287,
   "id": "bac9ce4c",
   "metadata": {},
   "outputs": [
    {
     "data": {
      "image/png": "[encoded data removed]",
      "text/plain": [
       "<Figure size 432x288 with 1 Axes>"
      ]
     },
     "metadata": {
      "needs_background": "light"
     },
     "output_type": "display_data"
    }
   ],
   "source": [
    "plt.plot(leaf_ratio, marker='o')\n",
    "plt.xticks(days)\n",
    "plt.title('NIR : 100 * Growth / Non Growth')\n",
    "plt.xlabel('Days')\n",
    "plt.ylabel('NIR Ratio')\n",
    "# plt.show()\n",
    "\n",
    "plt.savefig(f'F:/RGB-NIR/{mode}/results/NIR/NIR_Ratio.png')"
   ]
  },
  {
   "cell_type": "code",
   "execution_count": 288,
   "id": "43f9bfbc",
   "metadata": {},
   "outputs": [
    {
     "data": {
      "image/png": "[encoded data removed]",
      "text/plain": [
       "<Figure size 432x288 with 1 Axes>"
      ]
     },
     "metadata": {
      "needs_background": "light"
     },
     "output_type": "display_data"
    }
   ],
   "source": [
    "plt.plot(leaf_ratio2, marker='o')\n",
    "plt.xticks(days)\n",
    "plt.title('NIR 785 :100 * Growth / Non Growth')\n",
    "plt.xlabel('Days')\n",
    "plt.ylabel('NIR 785 Ratio')\n",
    "#plt.show()\n",
    "\n",
    "plt.savefig(f'F:/RGB-NIR/{mode}/results/NIR/NIR_785_Ratio.png')"
   ]
  },
  {
   "cell_type": "code",
   "execution_count": null,
   "id": "190abd49",
   "metadata": {},
   "outputs": [],
   "source": []
  },
  {
   "cell_type": "code",
   "execution_count": null,
   "id": "3c607ecb",
   "metadata": {},
   "outputs": [],
   "source": []
  }
 ],
 "metadata": {
  "kernelspec": {
   "display_name": "Python 3",
   "language": "python",
   "name": "python3"
  },
  "language_info": {
   "codemirror_mode": {
    "name": "ipython",
    "version": 3
   },
   "file_extension": ".py",
   "mimetype": "text/x-python",
   "name": "python",
   "nbconvert_exporter": "python",
   "pygments_lexer": "ipython3",
   "version": "3.7.10"
  }
 },
 "nbformat": 4,
 "nbformat_minor": 5
}
