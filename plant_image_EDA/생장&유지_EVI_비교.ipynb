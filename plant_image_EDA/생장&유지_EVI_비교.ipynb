{
 "cells": [
  {
   "cell_type": "code",
   "execution_count": null,
   "id": "01dd9c8b",
   "metadata": {},
   "outputs": [],
   "source": []
  },
  {
   "cell_type": "code",
   "execution_count": 1,
   "id": "49ccf85b",
   "metadata": {},
   "outputs": [],
   "source": [
    "import cv2\n",
    "import numpy as np\n",
    "import os\n",
    "import matplotlib.pyplot as plt"
   ]
  },
  {
   "cell_type": "code",
   "execution_count": 2,
   "id": "e638f6ba",
   "metadata": {},
   "outputs": [],
   "source": [
    "# 처리할 이미지 범위 지정\n",
    "start = 7 \n",
    "end = 10\n",
    "\n",
    "# 개별 이미지들의 처리 point 좌표 (x, y)\n",
    "total_pts = {}\n",
    "for i in range(start, end+1):\n",
    "    total_pts[i] = {'p1' : [],  # 생장 영역 좌표 \n",
    "                    'p2' : []}  # 유지 영역 좌표 "
   ]
  },
  {
   "cell_type": "markdown",
   "id": "8dc2ad2f",
   "metadata": {},
   "source": [
    "### Image Data"
   ]
  },
  {
   "cell_type": "code",
   "execution_count": 3,
   "id": "3cd0c10f",
   "metadata": {},
   "outputs": [],
   "source": [
    "root_path = 'F:/RGB-NIR/'\n",
    "mode = 3\n",
    "\n",
    "data_path = root_path + str(mode)\n",
    "\n",
    "evi_path = data_path + '/' + 'EVI_re'  # EVI 이미지 폴더 경로\n",
    "evi785_path = data_path + '/' + 'EVI_785'  # EVI 785 이미지 폴더 경로\n",
    "\n",
    "evi_img_list = os.listdir(evi_path)\n",
    "evi_img_dict = {idx:evi_path+'/'+ img_path for idx, img_path in enumerate(evi_img_list)}   \n",
    "\n",
    "evi785_img_list = os.listdir(evi785_path)\n",
    "evi785_img_dict = {idx:evi785_path+'/'+img_path for idx, img_path in enumerate(evi785_img_list)}   "
   ]
  },
  {
   "cell_type": "code",
   "execution_count": 5,
   "id": "ca67d954",
   "metadata": {},
   "outputs": [
    {
     "data": {
      "text/plain": [
       "{0: 'F:/RGB-NIR/3/EVI_re/211130_3.bmp',\n",
       " 1: 'F:/RGB-NIR/3/EVI_re/211201_3.bmp',\n",
       " 2: 'F:/RGB-NIR/3/EVI_re/211202_3.bmp',\n",
       " 3: 'F:/RGB-NIR/3/EVI_re/211203_3.bmp',\n",
       " 4: 'F:/RGB-NIR/3/EVI_re/211204_3.bmp',\n",
       " 5: 'F:/RGB-NIR/3/EVI_re/211205_3.bmp',\n",
       " 6: 'F:/RGB-NIR/3/EVI_re/211206_3.bmp',\n",
       " 7: 'F:/RGB-NIR/3/EVI_re/211207_3.bmp',\n",
       " 8: 'F:/RGB-NIR/3/EVI_re/211208_3.bmp',\n",
       " 9: 'F:/RGB-NIR/3/EVI_re/211209_3.bmp',\n",
       " 10: 'F:/RGB-NIR/3/EVI_re/211210_3.bmp',\n",
       " 11: 'F:/RGB-NIR/3/EVI_re/211211_3.bmp',\n",
       " 12: 'F:/RGB-NIR/3/EVI_re/211212_3.bmp',\n",
       " 13: 'F:/RGB-NIR/3/EVI_re/211213_3.bmp',\n",
       " 14: 'F:/RGB-NIR/3/EVI_re/211214_3.bmp',\n",
       " 15: 'F:/RGB-NIR/3/EVI_re/211215_3.bmp',\n",
       " 16: 'F:/RGB-NIR/3/EVI_re/211216_3.bmp',\n",
       " 17: 'F:/RGB-NIR/3/EVI_re/211217_3.bmp',\n",
       " 18: 'F:/RGB-NIR/3/EVI_re/211218_3.bmp',\n",
       " 19: 'F:/RGB-NIR/3/EVI_re/211219_3.bmp',\n",
       " 20: 'F:/RGB-NIR/3/EVI_re/211220_3.bmp',\n",
       " 21: 'F:/RGB-NIR/3/EVI_re/211221_3.bmp',\n",
       " 22: 'F:/RGB-NIR/3/EVI_re/211222_3.bmp',\n",
       " 23: 'F:/RGB-NIR/3/EVI_re/211223_3.bmp',\n",
       " 24: 'F:/RGB-NIR/3/EVI_re/211224_3.bmp',\n",
       " 25: 'F:/RGB-NIR/3/EVI_re/211225_3.bmp',\n",
       " 26: 'F:/RGB-NIR/3/EVI_re/211226_3.bmp',\n",
       " 27: 'F:/RGB-NIR/3/EVI_re/211227_3.bmp',\n",
       " 28: 'F:/RGB-NIR/3/EVI_re/211228_3.bmp',\n",
       " 29: 'F:/RGB-NIR/3/EVI_re/211229_3.bmp',\n",
       " 30: 'F:/RGB-NIR/3/EVI_re/211230_3.bmp',\n",
       " 31: 'F:/RGB-NIR/3/EVI_re/211231_3.bmp',\n",
       " 32: 'F:/RGB-NIR/3/EVI_re/220101_3.bmp',\n",
       " 33: 'F:/RGB-NIR/3/EVI_re/220102_3.bmp',\n",
       " 34: 'F:/RGB-NIR/3/EVI_re/220103_3.bmp'}"
      ]
     },
     "execution_count": 5,
     "metadata": {},
     "output_type": "execute_result"
    }
   ],
   "source": [
    "evi_img_dict "
   ]
  },
  {
   "cell_type": "markdown",
   "id": "0054a383",
   "metadata": {},
   "source": [
    "### 마우스 클릭으로 좌표 추출"
   ]
  },
  {
   "cell_type": "code",
   "execution_count": 9,
   "id": "a6386702",
   "metadata": {},
   "outputs": [],
   "source": [
    "# 마우스 이벤트 처리 함수 (참고: https://github.com/gymoon10/OpenCV/blob/main/OpenCV%20%EC%82%AC%EC%9A%A9%EB%B2%95.ipynb)\n",
    "def on_mouse(event, x, y, flags, param):\n",
    "    global oldx, oldy\n",
    "    \n",
    "    # 좌클릭에 반응\n",
    "    if event == cv2.EVENT_LBUTTONDOWN:\n",
    "        oldx, oldy = x, y\n",
    "        print('EVENT_LBUTTONDOWN: %d, %d' % (x, y))\n",
    "        \n",
    "        result.append((x, y))\n",
    "        \n",
    "    return result"
   ]
  },
  {
   "cell_type": "code",
   "execution_count": 10,
   "id": "70c29525",
   "metadata": {},
   "outputs": [
    {
     "name": "stdout",
     "output_type": "stream",
     "text": [
      "EVENT_LBUTTONDOWN: 740, 334\n",
      "EVENT_LBUTTONDOWN: 703, 349\n",
      "EVENT_LBUTTONDOWN: 721, 377\n",
      "EVENT_LBUTTONDOWN: 699, 404\n",
      "EVENT_LBUTTONDOWN: 723, 398\n",
      "EVENT_LBUTTONDOWN: 779, 295\n",
      "EVENT_LBUTTONDOWN: 757, 322\n",
      "EVENT_LBUTTONDOWN: 750, 359\n",
      "EVENT_LBUTTONDOWN: 782, 262\n",
      "EVENT_LBUTTONDOWN: 722, 262\n",
      "EVENT_LBUTTONDOWN: 763, 282\n",
      "EVENT_LBUTTONDOWN: 720, 288\n",
      "EVENT_LBUTTONDOWN: 760, 301\n",
      "EVENT_LBUTTONDOWN: 711, 316\n",
      "EVENT_LBUTTONDOWN: 746, 332\n",
      "EVENT_LBUTTONDOWN: 702, 338\n",
      "EVENT_LBUTTONDOWN: 731, 229\n",
      "EVENT_LBUTTONDOWN: 745, 274\n",
      "EVENT_LBUTTONDOWN: 772, 300\n",
      "EVENT_LBUTTONDOWN: 706, 337\n"
     ]
    }
   ],
   "source": [
    "# 개별 이미지 별로 생장 영역(p1) 좌표 추출\n",
    "# 각 이미지 마다 생장 영역의 좌표들을 좌클릭, esc를 누르면 다음 이미지로 넘어감\n",
    "for i in range(start, end+1):\n",
    "    img = cv2.imread(evi_img_dict[i])  # EVI 이미지\n",
    "    result = []\n",
    "    \n",
    "    cv2.namedWindow('image')\n",
    "    cv2.setMouseCallback('image', on_mouse, img) # 발생하는 마우스 이벤트를 반영\n",
    "    \n",
    "    # 텍스트\n",
    "    text = evi_img_dict[i].split('/')[-1]\n",
    "    cv2.putText(img, text, (100, 50), cv2.FONT_HERSHEY_SIMPLEX, 0.8, \n",
    "                (0, 0, 0), 1, cv2.LINE_AA)\n",
    "    \n",
    "    text = 'Click the Points of Growth Areas (Press ESC to move on to the next image)'\n",
    "    cv2.putText(img, text, (100, 150), cv2.FONT_HERSHEY_SIMPLEX, 0.8, \n",
    "                (0, 0, 0), 1, cv2.LINE_AA)\n",
    "\n",
    "    cv2.imshow('image', img)\n",
    "    cv2.waitKey()\n",
    "\n",
    "    cv2.destroyAllWindows()\n",
    "    \n",
    "    total_pts[i]['p1'] = result"
   ]
  },
  {
   "cell_type": "code",
   "execution_count": 11,
   "id": "da396e84",
   "metadata": {},
   "outputs": [
    {
     "name": "stdout",
     "output_type": "stream",
     "text": [
      "EVENT_LBUTTONDOWN: 501, 500\n",
      "EVENT_LBUTTONDOWN: 467, 471\n",
      "EVENT_LBUTTONDOWN: 417, 462\n",
      "EVENT_LBUTTONDOWN: 464, 506\n",
      "EVENT_LBUTTONDOWN: 486, 487\n",
      "EVENT_LBUTTONDOWN: 461, 517\n",
      "EVENT_LBUTTONDOWN: 401, 543\n",
      "EVENT_LBUTTONDOWN: 454, 550\n",
      "EVENT_LBUTTONDOWN: 463, 518\n",
      "EVENT_LBUTTONDOWN: 423, 520\n",
      "EVENT_LBUTTONDOWN: 467, 533\n",
      "EVENT_LBUTTONDOWN: 496, 524\n",
      "EVENT_LBUTTONDOWN: 476, 504\n",
      "EVENT_LBUTTONDOWN: 430, 536\n",
      "EVENT_LBUTTONDOWN: 480, 492\n",
      "EVENT_LBUTTONDOWN: 451, 526\n",
      "EVENT_LBUTTONDOWN: 431, 545\n",
      "EVENT_LBUTTONDOWN: 496, 520\n",
      "EVENT_LBUTTONDOWN: 479, 565\n",
      "EVENT_LBUTTONDOWN: 450, 585\n",
      "EVENT_LBUTTONDOWN: 442, 598\n"
     ]
    }
   ],
   "source": [
    "# 개별 이미지 별로 유지 영역(p1) 좌표 추출\n",
    "# 각 이미지 마다 유지 영역의 좌표들을 좌클릭, esc를 누르면 다음 이미지로 넘어감\n",
    "for i in range(start, end+1):\n",
    "    img = cv2.imread(evi_img_dict[i])  # EVI 이미지\n",
    "    result = []\n",
    "    \n",
    "    cv2.namedWindow('image')\n",
    "    cv2.setMouseCallback('image', on_mouse, img) # 발생하는 마우스 이벤트를 반영\n",
    "    \n",
    "    # 텍스트\n",
    "    text = evi_img_dict[i].split('/')[-1]\n",
    "    cv2.putText(img, text, (100, 50), cv2.FONT_HERSHEY_SIMPLEX, 0.8, \n",
    "                (0, 0, 0), 1, cv2.LINE_AA)\n",
    "    \n",
    "    text = 'Click the Points of Non-Growth Areas (Press ESC to move on to the next image)'\n",
    "    cv2.putText(img, text, (100, 150), cv2.FONT_HERSHEY_SIMPLEX, 0.8, \n",
    "                (0, 0, 0), 1, cv2.LINE_AA)\n",
    "\n",
    "    cv2.imshow('image', img)\n",
    "    cv2.waitKey()\n",
    "\n",
    "    cv2.destroyAllWindows()\n",
    "    \n",
    "    total_pts[i]['p2'] = result"
   ]
  },
  {
   "cell_type": "code",
   "execution_count": 12,
   "id": "9e21c22a",
   "metadata": {},
   "outputs": [
    {
     "data": {
      "text/plain": [
       "{7: {'p1': [(740, 334), (703, 349), (721, 377), (699, 404), (723, 398)],\n",
       "  'p2': [(501, 500), (467, 471), (417, 462), (464, 506)]},\n",
       " 8: {'p1': [(779, 295), (757, 322), (750, 359)],\n",
       "  'p2': [(486, 487),\n",
       "   (461, 517),\n",
       "   (401, 543),\n",
       "   (454, 550),\n",
       "   (463, 518),\n",
       "   (423, 520),\n",
       "   (467, 533),\n",
       "   (496, 524),\n",
       "   (476, 504),\n",
       "   (430, 536)]},\n",
       " 9: {'p1': [(782, 262),\n",
       "   (722, 262),\n",
       "   (763, 282),\n",
       "   (720, 288),\n",
       "   (760, 301),\n",
       "   (711, 316),\n",
       "   (746, 332),\n",
       "   (702, 338)],\n",
       "  'p2': [(480, 492), (451, 526), (431, 545)]},\n",
       " 10: {'p1': [(731, 229), (745, 274), (772, 300), (706, 337)],\n",
       "  'p2': [(496, 520), (479, 565), (450, 585), (442, 598)]}}"
      ]
     },
     "execution_count": 12,
     "metadata": {},
     "output_type": "execute_result"
    }
   ],
   "source": [
    "total_pts  # (x, y)"
   ]
  },
  {
   "cell_type": "code",
   "execution_count": 275,
   "id": "adae2b88",
   "metadata": {},
   "outputs": [],
   "source": [
    "# leaf_points.m (mode=3) - 실험용\n",
    "total_pts = {7: {'p1': [(704, 338), (712, 408)],\n",
    "                 'p2': [(416, 436), (488, 426), (418, 502), (486, 506)]},\n",
    "             8: {'p1': [(740, 298), (708, 358), (724, 398)],\n",
    "                 'p2': [(432, 484), (490, 468), (426, 552), (496, 536)]},\n",
    "             9: {'p1': [(710, 280), (764, 302), (688, 326), (736, 362)],\n",
    "                 'p2': [(444, 492), (438, 566), (498, 544)]},\n",
    "             10: {'p1': [(723, 232), (776, 278), (692, 316), (750, 340)],\n",
    "                  'p2': [(466, 530), (454, 610), (504, 590)]}}"
   ]
  },
  {
   "cell_type": "markdown",
   "id": "af0e0f68",
   "metadata": {},
   "source": [
    "### 좌표 확인 (영역 시각화)"
   ]
  },
  {
   "cell_type": "code",
   "execution_count": 15,
   "id": "998110b2",
   "metadata": {},
   "outputs": [],
   "source": [
    "for i in range(start, end+1):\n",
    "    r = 10\n",
    "    img = cv2.imread(evi_img_dict[i])\n",
    "    \n",
    "    save_path = data_path + '/' + 'results' + '/' 'EVI'\n",
    "    \n",
    "    pts = total_pts[i]\n",
    "    pts_p1 = pts['p1']\n",
    "    pts_p2 = pts['p2']\n",
    "    \n",
    "    for pt in pts_p1:\n",
    "        x = pt[0]\n",
    "        y = pt[1]\n",
    "        cv2.rectangle(img, (x-r, y+r), (x+r, y-r), (0, 128, 0), -1)  # 초록색 : 생장 영역\n",
    "        \n",
    "    for pt in pts_p2:\n",
    "        x = pt[0]\n",
    "        y = pt[1]\n",
    "        cv2.rectangle(img, (x-r, y+r), (x+r, y-r), (0, 0, 128), -1)  # 빨간색 : 유지 영역\n",
    "    \n",
    "    # 텍스트\n",
    "    text1 = evi_img_dict[i].split('/')[-1]\n",
    "    cv2.putText(img, text1, (50, 50), cv2.FONT_HERSHEY_SIMPLEX, 0.8, \n",
    "                (0, 0, 0), 1, cv2.LINE_AA)\n",
    "    text2 = 'Growth'\n",
    "    cv2.putText(img, text2, (50, 150), cv2.FONT_HERSHEY_SIMPLEX, 0.8, \n",
    "                (0, 255, 0), 1, cv2.LINE_AA)\n",
    "    text3 = 'Non-Growth'\n",
    "    cv2.putText(img, text3, (50, 200), cv2.FONT_HERSHEY_SIMPLEX, 0.8, \n",
    "                (0, 0, 255), 1, cv2.LINE_AA)\n",
    "    \n",
    "    cv2.imshow(\"img\", img)\n",
    "    cv2.imwrite(save_path + '/' + str(i) + '_' + text1, img)  # 이미지 저장 (생장, 유지 포인트 표시)\n",
    "    cv2.waitKey()\n",
    "    cv2.destroyAllWindows()"
   ]
  },
  {
   "cell_type": "markdown",
   "id": "fd94dd5e",
   "metadata": {},
   "source": [
    "### 좌표를 중심으로한 일정 영역의 NIR 평균 계산\n",
    "\n",
    "위에서 구한 total_pts의 좌표를 중심으로한 특정 직사각형 영역의 NIR 평균 계산"
   ]
  },
  {
   "cell_type": "code",
   "execution_count": 17,
   "id": "f0010f98",
   "metadata": {},
   "outputs": [],
   "source": [
    "r = 10  # 영역 지정 변수\n",
    "p1_mean = [] ; p2_mean = []  # 정규화한 EVI 이미지의 EVI 평균값 저장 \n",
    "p1_mean2 = [] ; p2_mean2 = []  # 정규화한 EVI 785이미지의 EVI 평균값 저장"
   ]
  },
  {
   "cell_type": "code",
   "execution_count": 18,
   "id": "8c0b5557",
   "metadata": {},
   "outputs": [],
   "source": [
    "# p1_mean 계산\n",
    "for i in range(start, end+1):\n",
    "    evi_img = cv2.imread(evi_img_dict[i])  # 특정 index의 EVI 이미지 불러오기\n",
    "    max_val = np.max(evi_img) ; min_val = np.min(evi_img)\n",
    "    \n",
    "    nor_evi = (evi_img - min_val) / (max_val - min_val)  # EVI 이미지 정규화\n",
    "    \n",
    "    centers_p1 = total_pts[i]['p1']  # 처리하는 이미지에 대응하는 생장 좌표 정보 불러오기\n",
    "    \n",
    "    mean_res = []  # 중간 결과 저장\n",
    "    for center in centers_p1:  # (x, y)\n",
    "        x = center[0] ; y = center[1]\n",
    "        # bottom_left = (x-r, y+r) ; upper_right = (x+r, y-r)\n",
    "        \n",
    "        img_clone = nor_evi.copy()\n",
    "        dst = img_clone[y-r:y+r, x-r:x+r] \n",
    "        \n",
    "        mean_res.append(dst.mean())\n",
    "        \n",
    "    p1_mean.append(np.mean(mean_res)) "
   ]
  },
  {
   "cell_type": "code",
   "execution_count": 19,
   "id": "aece7fb0",
   "metadata": {},
   "outputs": [],
   "source": [
    "# p2_mean 계산\n",
    "for i in range(start, end+1):\n",
    "    evi_img = cv2.imread(evi_img_dict[i])  # 특정 index의 EVI 이미지 불러오기\n",
    "    max_val = np.max(evi_img) ; min_val = np.min(evi_img)\n",
    "    \n",
    "    nor_evi = (evi_img - min_val) / (max_val - min_val)  # EVI 이미지 정규화\n",
    "    \n",
    "    centers_p2 = total_pts[i]['p2']  # 처리하는 이미지에 대응하는 유지 좌표 정보 불러오기\n",
    "    \n",
    "    mean_res = []  # 중간 결과 저장\n",
    "    for center in centers_p2:  # (x, y)\n",
    "        x = center[0] ; y = center[1]\n",
    "        # bottom_left = (x-r, y+r) ; upper_right = (x+r, y-r)\n",
    "        \n",
    "        img_clone = nor_evi.copy()\n",
    "        dst = img_clone[y-r:y+r, x-r:x+r] \n",
    "        \n",
    "        mean_res.append(dst.mean())\n",
    "        \n",
    "    p2_mean.append(np.mean(mean_res)) "
   ]
  },
  {
   "cell_type": "code",
   "execution_count": 20,
   "id": "844c6754",
   "metadata": {},
   "outputs": [],
   "source": [
    "# p1_mean2 계산\n",
    "for i in range(start, end+1):\n",
    "    evi785_img = cv2.imread(evi785_img_dict[i])  # 특정 index의 EVI 785 이미지 불러오기\n",
    "    max_val = np.max(evi785_img) ; min_val = np.min(evi785_img)\n",
    "    \n",
    "    nor_evi785 = (evi785_img - min_val) / (max_val - min_val)  # EVI 이미지 정규화\n",
    "    \n",
    "    centers_p1 = total_pts[i]['p1']  # 처리하는 이미지에 대응하는 좌표 정보 불러오기\n",
    "    \n",
    "    mean_res = []  # 중간 결과 저장\n",
    "    for center in centers_p1:  # (x, y)\n",
    "        x = center[0] ; y = center[1]\n",
    "        # bottom_left = (x-r, y+r) ; upper_right = (x+r, y-r)\n",
    "        \n",
    "        img_clone = nor_evi785.copy()\n",
    "        dst = img_clone[y-r:y+r, x-r:x+r] \n",
    "        \n",
    "        mean_res.append(dst.mean())\n",
    "        \n",
    "    p1_mean2.append(np.mean(mean_res)) "
   ]
  },
  {
   "cell_type": "code",
   "execution_count": 21,
   "id": "3681353e",
   "metadata": {},
   "outputs": [],
   "source": [
    "# p2_mean2 계산\n",
    "for i in range(start, end+1):\n",
    "    evi785_img = cv2.imread(evi785_img_dict[i])  # 특정 index의 EVI 785 이미지 불러오기\n",
    "    max_val = np.max(evi785_img) ; min_val = np.min(evi785_img)\n",
    "    \n",
    "    nor_evi785 = (evi785_img - min_val) / (max_val - min_val)  # EVI 이미지 정규화\n",
    "    \n",
    "    centers_p2 = total_pts[i]['p2']  # 처리하는 이미지에 대응하는 좌표 정보 불러오기\n",
    "    \n",
    "    mean_res = []  # 중간 결과 저장\n",
    "    for center in centers_p2:  # (x, y)\n",
    "        x = center[0] ; y = center[1]\n",
    "        # bottom_left = (x-r, y+r) ; upper_right = (x+r, y-r)\n",
    "        \n",
    "        img_clone = nor_evi785.copy()\n",
    "        dst = img_clone[y-r:y+r, x-r:x+r] \n",
    "        \n",
    "        mean_res.append(dst.mean())\n",
    "        \n",
    "    p2_mean2.append(np.mean(mean_res)) "
   ]
  },
  {
   "cell_type": "markdown",
   "id": "06cc68dc",
   "metadata": {},
   "source": [
    "### 결과 정리"
   ]
  },
  {
   "cell_type": "code",
   "execution_count": 22,
   "id": "9f367df5",
   "metadata": {},
   "outputs": [],
   "source": [
    "# 생장 - 유지\n",
    "leaf_mean = []\n",
    "for i in range(len(p1_mean)):\n",
    "    leaf_mean.append(p1_mean[i] - p2_mean[i])\n",
    "    \n",
    "leaf_mean2 = []\n",
    "for i in range(len(p1_mean2)):\n",
    "    leaf_mean2.append(p1_mean2[i] - p2_mean2[i])\n",
    "    \n",
    "# 100 * 생장 / 유지\n",
    "leaf_ratio = []\n",
    "for i in range(len(p1_mean)):\n",
    "    leaf_ratio.append(100 * (p1_mean[i] / p2_mean[i]))\n",
    "    \n",
    "leaf_ratio2 = []\n",
    "for i in range(len(p1_mean2)):\n",
    "    leaf_ratio2.append(100 * (p1_mean2[i] / p2_mean2[i]))"
   ]
  },
  {
   "cell_type": "code",
   "execution_count": 23,
   "id": "ae739fc7",
   "metadata": {},
   "outputs": [
    {
     "data": {
      "image/png": "[encoded data removed]",
      "text/plain": [
       "<Figure size 432x288 with 1 Axes>"
      ]
     },
     "metadata": {
      "needs_background": "light"
     },
     "output_type": "display_data"
    }
   ],
   "source": [
    "days = list(range(0, end-start+1))\n",
    "\n",
    "plt.plot(p1_mean, marker='o', label='Growth')\n",
    "plt.plot(p2_mean, marker='o', label='Non-Growth')\n",
    "plt.xticks(days)\n",
    "plt.xlabel('Days')\n",
    "plt.ylabel('EVI')\n",
    "plt.title('EVI Comparison')\n",
    "plt.legend(loc='best') \n",
    "# plt.show()\n",
    "\n",
    "plt.savefig(f'F:/RGB-NIR/{mode}/results/EVI/EVI_comparison.png')"
   ]
  },
  {
   "cell_type": "code",
   "execution_count": 24,
   "id": "abbba5a0",
   "metadata": {},
   "outputs": [
    {
     "data": {
      "image/png": "[encoded data removed]",
      "text/plain": [
       "<Figure size 432x288 with 1 Axes>"
      ]
     },
     "metadata": {
      "needs_background": "light"
     },
     "output_type": "display_data"
    }
   ],
   "source": [
    "plt.plot(p1_mean2, marker='o', label='Growth')\n",
    "plt.plot(p2_mean2, marker='o', label='Non-Growth')\n",
    "plt.xticks(days)\n",
    "plt.xlabel('Days')\n",
    "plt.ylabel('EVI 785')\n",
    "plt.title('EVI 785 Comparison')\n",
    "plt.legend(loc='best') \n",
    "#plt.show()\n",
    "\n",
    "plt.savefig(f'F:/RGB-NIR/{mode}/results/EVI/EVI_785_comparison.png')"
   ]
  },
  {
   "cell_type": "code",
   "execution_count": 25,
   "id": "0d3d9b6d",
   "metadata": {},
   "outputs": [
    {
     "data": {
      "image/png": "[encoded data removed]",
      "text/plain": [
       "<Figure size 432x288 with 1 Axes>"
      ]
     },
     "metadata": {
      "needs_background": "light"
     },
     "output_type": "display_data"
    }
   ],
   "source": [
    "plt.plot(leaf_mean, marker='o')\n",
    "plt.xticks(days)\n",
    "plt.title('EVI : Growth - Non Growth')\n",
    "plt.xlabel('Days')\n",
    "plt.ylabel('EVI Diffs')\n",
    "# plt.show()\n",
    "\n",
    "plt.savefig(f'F:/RGB-NIR/{mode}/results/EVI/EVI_Diff.png')"
   ]
  },
  {
   "cell_type": "code",
   "execution_count": 26,
   "id": "3deec882",
   "metadata": {},
   "outputs": [
    {
     "data": {
      "image/png": "[encoded data removed]",
      "text/plain": [
       "<Figure size 432x288 with 1 Axes>"
      ]
     },
     "metadata": {
      "needs_background": "light"
     },
     "output_type": "display_data"
    }
   ],
   "source": [
    "plt.plot(leaf_mean2, marker='o')\n",
    "plt.xticks(days)\n",
    "plt.title('EVI 785 : Growth - Non Growth')\n",
    "plt.xlabel('Days')\n",
    "plt.ylabel('EVI 785 Diffs')\n",
    "# plt.show()\n",
    "\n",
    "plt.savefig(f'F:/RGB-NIR/{mode}/results/EVI/EVI_785_Diff.png')"
   ]
  },
  {
   "cell_type": "code",
   "execution_count": 27,
   "id": "0648f191",
   "metadata": {},
   "outputs": [
    {
     "data": {
      "image/png": "[encoded data removed]",
      "text/plain": [
       "<Figure size 432x288 with 1 Axes>"
      ]
     },
     "metadata": {
      "needs_background": "light"
     },
     "output_type": "display_data"
    }
   ],
   "source": [
    "plt.plot(leaf_ratio, marker='o')\n",
    "plt.xticks(days)\n",
    "plt.title('EVI : 100 * Growth / Non Growth')\n",
    "plt.xlabel('Days')\n",
    "plt.ylabel('EVI Ratio')\n",
    "# plt.show()\n",
    "\n",
    "plt.savefig(f'F:/RGB-NIR/{mode}/results/EVI/EVI_Ratio.png')"
   ]
  },
  {
   "cell_type": "code",
   "execution_count": 28,
   "id": "14f23391",
   "metadata": {},
   "outputs": [
    {
     "data": {
      "image/png": "[encoded data removed]",
      "text/plain": [
       "<Figure size 432x288 with 1 Axes>"
      ]
     },
     "metadata": {
      "needs_background": "light"
     },
     "output_type": "display_data"
    }
   ],
   "source": [
    "plt.plot(leaf_ratio2, marker='o')\n",
    "plt.xticks(days)\n",
    "plt.title('EVI 785 :100 * Growth / Non Growth')\n",
    "plt.xlabel('Days')\n",
    "plt.ylabel('EVI 785 Ratio')\n",
    "#plt.show()\n",
    "\n",
    "plt.savefig(f'F:/RGB-NIR/{mode}/results/EVI/EVI_785_Ratio.png')"
   ]
  },
  {
   "cell_type": "code",
   "execution_count": null,
   "id": "02927346",
   "metadata": {},
   "outputs": [],
   "source": []
  },
  {
   "cell_type": "code",
   "execution_count": null,
   "id": "30d6770f",
   "metadata": {},
   "outputs": [],
   "source": []
  }
 ],
 "metadata": {
  "kernelspec": {
   "display_name": "Python 3",
   "language": "python",
   "name": "python3"
  },
  "language_info": {
   "codemirror_mode": {
    "name": "ipython",
    "version": 3
   },
   "file_extension": ".py",
   "mimetype": "text/x-python",
   "name": "python",
   "nbconvert_exporter": "python",
   "pygments_lexer": "ipython3",
   "version": "3.7.10"
  }
 },
 "nbformat": 4,
 "nbformat_minor": 5
}
