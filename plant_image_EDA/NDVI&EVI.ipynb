{
 "cells": [
  {
   "cell_type": "code",
   "execution_count": 4,
   "id": "27bdc9b6",
   "metadata": {},
   "outputs": [],
   "source": [
    "import cv2\n",
    "import os\n",
    "import numpy as np\n",
    "import matplotlib.pyplot as plt"
   ]
  },
  {
   "cell_type": "markdown",
   "id": "d6806a6f",
   "metadata": {},
   "source": [
    "### Data"
   ]
  },
  {
   "cell_type": "code",
   "execution_count": 5,
   "id": "8266e307",
   "metadata": {},
   "outputs": [],
   "source": [
    "root_path = 'F:/RGB-NIR/'\n",
    "mode = 3\n",
    "\n",
    "data_path = root_path + str(mode)\n",
    "\n",
    "bgr_path = data_path + '/' + 'RGB'  # RGB 이미지 폴더 경로\n",
    "nir_path = data_path + '/' + 'NIR'  # NIR 이미지 폴더 경로"
   ]
  },
  {
   "cell_type": "code",
   "execution_count": 6,
   "id": "7e45dd17",
   "metadata": {},
   "outputs": [],
   "source": [
    "bgr_img_list = os.listdir(bgr_path)  # 리스트로 저장\n",
    "bgr_img_dict = {idx:bgr_path+'/'+img_path for idx, img_path in enumerate(bgr_img_list)}  # 폴더에서 몇 번째 이미지에 해당하는 지\n",
    "\n",
    "nir_img_list = os.listdir(nir_path)\n",
    "nir_img_dict = {idx:nir_path+'/'+img_path for idx, img_path in enumerate(nir_img_list)}  "
   ]
  },
  {
   "cell_type": "code",
   "execution_count": null,
   "id": "f1ecc1ab",
   "metadata": {},
   "outputs": [],
   "source": []
  },
  {
   "cell_type": "markdown",
   "id": "4f376902",
   "metadata": {},
   "source": [
    "### NDVI 계산"
   ]
  },
  {
   "cell_type": "code",
   "execution_count": 17,
   "id": "3a613689",
   "metadata": {},
   "outputs": [],
   "source": [
    "def ndvi_map(BGR, NIR, e=0.0000001):\n",
    "    out = (NIR - BGR[:, :, 2]) / (NIR + BGR[:, :, 2] + e)  # e : divide by zero 방지\n",
    "    \n",
    "    return out"
   ]
  },
  {
   "cell_type": "code",
   "execution_count": 18,
   "id": "5e339acf",
   "metadata": {},
   "outputs": [],
   "source": [
    "for i in range(len(nir_img_list)):\n",
    "    img_name = bgr_img_dict[i].split('/')[-1][:-8] + '_' + 'NDVI.bmp'\n",
    "    \n",
    "    img_bgr = cv2.imread(bgr_img_dict[i], cv2.IMREAD_COLOR)\n",
    "    img_nir = cv2.imread(nir_img_dict[i])\n",
    "    \n",
    "    bgr_array = img_bgr.copy()\n",
    "    nir_array = img_nir.copy()\n",
    "\n",
    "    bgr_array = bgr_array.astype('float64')  # 배정밀도 부동소수점 형태로(MATLAB의 double)\n",
    "    nir_array = nir_array.astype('float64')\n",
    "    \n",
    "    nir_array = nir_array[2:, :, 1]  # bgr과 같은 형태로\n",
    "    nir_array = nir_array * 6\n",
    "    \n",
    "    img_ndvi = ndvi_map(bgr_array, nir_array)\n",
    "    img_ndvi = np.expand_dims(img_ndvi, axis=2)\n",
    "    \n",
    "    cv2.imshow(\"img_ndvi\", img_ndvi)\n",
    "    #plt.imsave('F:/RGB-NIR/3/NDVI/' + img_name, img_ndvi)\n",
    "    cv2.waitKey(500)  # 0.5초\n",
    "    cv2.destroyAllWindows()"
   ]
  },
  {
   "cell_type": "markdown",
   "id": "a3d6d712",
   "metadata": {},
   "source": [
    "### EVI 계산"
   ]
  },
  {
   "cell_type": "code",
   "execution_count": 12,
   "id": "c3db8780",
   "metadata": {},
   "outputs": [],
   "source": [
    "def evi_map(BGR, NIR, e=0.0000001):\n",
    "    G=2.5 ; C1=6 ; C2=7.5 ; L=1\n",
    "    out = G * ((NIR - BGR[:, :, 2]) / (NIR + C1*BGR[:, :, 2] - C2*BGR[:, :, 0] + e))  # e : divide by zero 방지\n",
    "    \n",
    "    return out"
   ]
  },
  {
   "cell_type": "code",
   "execution_count": 16,
   "id": "d7b025b3",
   "metadata": {},
   "outputs": [],
   "source": [
    "for i in range(len(nir_img_list)):\n",
    "    img_name = bgr_img_dict[i].split('/')[-1][:-8] + '_' + 'EVI.bmp'\n",
    "    \n",
    "    img_bgr = cv2.imread(bgr_img_dict[i], cv2.IMREAD_COLOR)\n",
    "    img_nir = cv2.imread(nir_img_dict[i])\n",
    "    \n",
    "    bgr_array = img_bgr.copy()\n",
    "    nir_array = img_nir.copy()\n",
    "\n",
    "    bgr_array = bgr_array.astype('float64')  # 배정밀도 부동소수점 형태로(MATLAB의 double)\n",
    "    nir_array = nir_array.astype('float64')\n",
    "    \n",
    "    nir_array = nir_array[2:, :, 1]  # bgr과 같은 형태로\n",
    "    nir_array = nir_array * 6\n",
    "    \n",
    "    img_evi = evi_map(bgr_array, nir_array)\n",
    "    #img_evi = np.expand_dims(img_evi, axis=2)\n",
    "    \n",
    "    cv2.imshow(\"img_evi\", img_evi)\n",
    "    #plt.imsave('F:/RGB-NIR/3/EVI/' + img_name, img_evi)\n",
    "    cv2.waitKey(500)  # 0.5초\n",
    "    cv2.destroyAllWindows()"
   ]
  },
  {
   "cell_type": "code",
   "execution_count": null,
   "id": "82199179",
   "metadata": {},
   "outputs": [],
   "source": []
  }
 ],
 "metadata": {
  "kernelspec": {
   "display_name": "Python 3",
   "language": "python",
   "name": "python3"
  },
  "language_info": {
   "codemirror_mode": {
    "name": "ipython",
    "version": 3
   },
   "file_extension": ".py",
   "mimetype": "text/x-python",
   "name": "python",
   "nbconvert_exporter": "python",
   "pygments_lexer": "ipython3",
   "version": "3.7.10"
  }
 },
 "nbformat": 4,
 "nbformat_minor": 5
}
